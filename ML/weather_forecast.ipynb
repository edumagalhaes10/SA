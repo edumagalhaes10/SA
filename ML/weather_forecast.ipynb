{
 "cells": [
  {
   "cell_type": "code",
   "execution_count": 1,
   "id": "96b96572-413c-4894-bad3-30ea27f58f45",
   "metadata": {},
   "outputs": [],
   "source": [
    "import pandas as pd \n",
    "from sklearn.model_selection import train_test_split\n",
    "from sklearn.linear_model import LinearRegression\n",
    "from sklearn.ensemble import RandomForestRegressor, AdaBoostClassifier\n",
    "import matplotlib.pyplot as plt\n",
    "\n",
    "from sklearn.metrics import mean_squared_error, mean_absolute_error, ConfusionMatrixDisplay, r2_score"
   ]
  },
  {
   "cell_type": "code",
   "execution_count": 2,
   "id": "f57c2494-616e-4ad4-a9b8-789ad670463e",
   "metadata": {},
   "outputs": [],
   "source": [
    "data = pd.read_csv(\"weather_data.csv\")"
   ]
  },
  {
   "cell_type": "code",
   "execution_count": 3,
   "id": "d5f84d99-bcff-4a12-9e8c-f191399875ca",
   "metadata": {},
   "outputs": [
    {
     "data": {
      "text/html": [
       "<div>\n",
       "<style scoped>\n",
       "    .dataframe tbody tr th:only-of-type {\n",
       "        vertical-align: middle;\n",
       "    }\n",
       "\n",
       "    .dataframe tbody tr th {\n",
       "        vertical-align: top;\n",
       "    }\n",
       "\n",
       "    .dataframe thead th {\n",
       "        text-align: right;\n",
       "    }\n",
       "</style>\n",
       "<table border=\"1\" class=\"dataframe\">\n",
       "  <thead>\n",
       "    <tr style=\"text-align: right;\">\n",
       "      <th></th>\n",
       "      <th>time</th>\n",
       "      <th>temperature</th>\n",
       "    </tr>\n",
       "  </thead>\n",
       "  <tbody>\n",
       "    <tr>\n",
       "      <th>0</th>\n",
       "      <td>2020-01-01 00:00</td>\n",
       "      <td>1.2</td>\n",
       "    </tr>\n",
       "    <tr>\n",
       "      <th>1</th>\n",
       "      <td>2020-01-01 01:00</td>\n",
       "      <td>0.6</td>\n",
       "    </tr>\n",
       "    <tr>\n",
       "      <th>2</th>\n",
       "      <td>2020-01-01 02:00</td>\n",
       "      <td>0.3</td>\n",
       "    </tr>\n",
       "    <tr>\n",
       "      <th>3</th>\n",
       "      <td>2020-01-01 03:00</td>\n",
       "      <td>0.1</td>\n",
       "    </tr>\n",
       "    <tr>\n",
       "      <th>4</th>\n",
       "      <td>2020-01-01 04:00</td>\n",
       "      <td>0.3</td>\n",
       "    </tr>\n",
       "    <tr>\n",
       "      <th>...</th>\n",
       "      <td>...</td>\n",
       "      <td>...</td>\n",
       "    </tr>\n",
       "    <tr>\n",
       "      <th>29707</th>\n",
       "      <td>2023-05-22 19:00</td>\n",
       "      <td>NaN</td>\n",
       "    </tr>\n",
       "    <tr>\n",
       "      <th>29708</th>\n",
       "      <td>2023-05-22 20:00</td>\n",
       "      <td>NaN</td>\n",
       "    </tr>\n",
       "    <tr>\n",
       "      <th>29709</th>\n",
       "      <td>2023-05-22 21:00</td>\n",
       "      <td>NaN</td>\n",
       "    </tr>\n",
       "    <tr>\n",
       "      <th>29710</th>\n",
       "      <td>2023-05-22 22:00</td>\n",
       "      <td>NaN</td>\n",
       "    </tr>\n",
       "    <tr>\n",
       "      <th>29711</th>\n",
       "      <td>2023-05-22 23:00</td>\n",
       "      <td>NaN</td>\n",
       "    </tr>\n",
       "  </tbody>\n",
       "</table>\n",
       "<p>29712 rows × 2 columns</p>\n",
       "</div>"
      ],
      "text/plain": [
       "                   time  temperature\n",
       "0      2020-01-01 00:00          1.2\n",
       "1      2020-01-01 01:00          0.6\n",
       "2      2020-01-01 02:00          0.3\n",
       "3      2020-01-01 03:00          0.1\n",
       "4      2020-01-01 04:00          0.3\n",
       "...                 ...          ...\n",
       "29707  2023-05-22 19:00          NaN\n",
       "29708  2023-05-22 20:00          NaN\n",
       "29709  2023-05-22 21:00          NaN\n",
       "29710  2023-05-22 22:00          NaN\n",
       "29711  2023-05-22 23:00          NaN\n",
       "\n",
       "[29712 rows x 2 columns]"
      ]
     },
     "execution_count": 3,
     "metadata": {},
     "output_type": "execute_result"
    }
   ],
   "source": [
    "data"
   ]
  },
  {
   "cell_type": "code",
   "execution_count": 4,
   "id": "a66b6753-5306-4e85-9631-82a0578ab5e8",
   "metadata": {},
   "outputs": [
    {
     "data": {
      "text/plain": [
       "time             0\n",
       "temperature    168\n",
       "dtype: int64"
      ]
     },
     "execution_count": 4,
     "metadata": {},
     "output_type": "execute_result"
    }
   ],
   "source": [
    "data.isnull().sum()"
   ]
  },
  {
   "cell_type": "code",
   "execution_count": 5,
   "id": "682ef9ed-ad38-4707-9077-7609ba8ba157",
   "metadata": {},
   "outputs": [
    {
     "name": "stdout",
     "output_type": "stream",
     "text": [
      "                   time  temperature\n",
      "0      2020-01-01 00:00          1.2\n",
      "1      2020-01-01 01:00          0.6\n",
      "2      2020-01-01 02:00          0.3\n",
      "3      2020-01-01 03:00          0.1\n",
      "4      2020-01-01 04:00          0.3\n",
      "...                 ...          ...\n",
      "29539  2023-05-15 19:00         18.9\n",
      "29540  2023-05-15 20:00         17.4\n",
      "29541  2023-05-15 21:00         16.2\n",
      "29542  2023-05-15 22:00         15.1\n",
      "29543  2023-05-15 23:00         14.0\n",
      "\n",
      "[29544 rows x 2 columns]\n"
     ]
    }
   ],
   "source": [
    "data = data.dropna()\n",
    "print(data)\n"
   ]
  },
  {
   "cell_type": "code",
   "execution_count": 6,
   "id": "8dd70c22-fe56-4c65-a1dd-c1fd60cf7f2b",
   "metadata": {},
   "outputs": [
    {
     "data": {
      "text/plain": [
       "time           0\n",
       "temperature    0\n",
       "dtype: int64"
      ]
     },
     "execution_count": 6,
     "metadata": {},
     "output_type": "execute_result"
    }
   ],
   "source": [
    "data.isnull().sum()"
   ]
  },
  {
   "cell_type": "code",
   "execution_count": 7,
   "id": "1c5014da-74ac-4928-964e-7dcbafc33461",
   "metadata": {},
   "outputs": [
    {
     "name": "stdout",
     "output_type": "stream",
     "text": [
      "       temperature  year  month  day  hour\n",
      "0              1.2  2020      1    1     0\n",
      "1              0.6  2020      1    1     1\n",
      "2              0.3  2020      1    1     2\n",
      "3              0.1  2020      1    1     3\n",
      "4              0.3  2020      1    1     4\n",
      "...            ...   ...    ...  ...   ...\n",
      "29539         18.9  2023      5   15    19\n",
      "29540         17.4  2023      5   15    20\n",
      "29541         16.2  2023      5   15    21\n",
      "29542         15.1  2023      5   15    22\n",
      "29543         14.0  2023      5   15    23\n",
      "\n",
      "[29544 rows x 5 columns]\n"
     ]
    },
    {
     "name": "stderr",
     "output_type": "stream",
     "text": [
      "/tmp/ipykernel_15718/1124732442.py:1: SettingWithCopyWarning: \n",
      "A value is trying to be set on a copy of a slice from a DataFrame.\n",
      "Try using .loc[row_indexer,col_indexer] = value instead\n",
      "\n",
      "See the caveats in the documentation: https://pandas.pydata.org/pandas-docs/stable/user_guide/indexing.html#returning-a-view-versus-a-copy\n",
      "  data['time'] = pd.to_datetime(data['time'])\n",
      "/tmp/ipykernel_15718/1124732442.py:4: SettingWithCopyWarning: \n",
      "A value is trying to be set on a copy of a slice from a DataFrame.\n",
      "Try using .loc[row_indexer,col_indexer] = value instead\n",
      "\n",
      "See the caveats in the documentation: https://pandas.pydata.org/pandas-docs/stable/user_guide/indexing.html#returning-a-view-versus-a-copy\n",
      "  data['year'] = data['time'].dt.year\n",
      "/tmp/ipykernel_15718/1124732442.py:5: SettingWithCopyWarning: \n",
      "A value is trying to be set on a copy of a slice from a DataFrame.\n",
      "Try using .loc[row_indexer,col_indexer] = value instead\n",
      "\n",
      "See the caveats in the documentation: https://pandas.pydata.org/pandas-docs/stable/user_guide/indexing.html#returning-a-view-versus-a-copy\n",
      "  data['month'] = data['time'].dt.month\n",
      "/tmp/ipykernel_15718/1124732442.py:6: SettingWithCopyWarning: \n",
      "A value is trying to be set on a copy of a slice from a DataFrame.\n",
      "Try using .loc[row_indexer,col_indexer] = value instead\n",
      "\n",
      "See the caveats in the documentation: https://pandas.pydata.org/pandas-docs/stable/user_guide/indexing.html#returning-a-view-versus-a-copy\n",
      "  data['day'] = data['time'].dt.day\n",
      "/tmp/ipykernel_15718/1124732442.py:7: SettingWithCopyWarning: \n",
      "A value is trying to be set on a copy of a slice from a DataFrame.\n",
      "Try using .loc[row_indexer,col_indexer] = value instead\n",
      "\n",
      "See the caveats in the documentation: https://pandas.pydata.org/pandas-docs/stable/user_guide/indexing.html#returning-a-view-versus-a-copy\n",
      "  data['hour'] = data['time'].dt.hour\n",
      "/tmp/ipykernel_15718/1124732442.py:8: SettingWithCopyWarning: \n",
      "A value is trying to be set on a copy of a slice from a DataFrame\n",
      "\n",
      "See the caveats in the documentation: https://pandas.pydata.org/pandas-docs/stable/user_guide/indexing.html#returning-a-view-versus-a-copy\n",
      "  data.drop('time', axis = 1, inplace = True)\n"
     ]
    }
   ],
   "source": [
    "data['time'] = pd.to_datetime(data['time'])\n",
    "\n",
    "# Extract the day and hour from the 'time' column\n",
    "data['year'] = data['time'].dt.year\n",
    "data['month'] = data['time'].dt.month\n",
    "data['day'] = data['time'].dt.day\n",
    "data['hour'] = data['time'].dt.hour\n",
    "data.drop('time', axis = 1, inplace = True)\n",
    "\n",
    "\n",
    "print(data)"
   ]
  },
  {
   "cell_type": "code",
   "execution_count": 8,
   "id": "cc51a780-a652-44ba-8648-785feab6e7a6",
   "metadata": {},
   "outputs": [
    {
     "data": {
      "text/plain": [
       "RandomForestRegressor()"
      ]
     },
     "execution_count": 8,
     "metadata": {},
     "output_type": "execute_result"
    }
   ],
   "source": [
    "# Separate the features (day and hour) from the target variable (temperature)\n",
    "X = data.drop(['temperature'], axis = 1)\n",
    "y = data['temperature']\n",
    "\n",
    "# Split the data into training and testing sets\n",
    "X_train, X_test, y_train, y_test = train_test_split(X, y, test_size=0.2, random_state=42)\n",
    "\n",
    "# Create a linear regression model\n",
    "#model = LinearRegression()\n",
    "model = RandomForestRegressor() \n",
    "#model = AdaBoostClassifier(algorithm='SAMME.R', n_estimators=85, learning_rate=1.5, random_state=2001)\n",
    "# Train the model\n",
    "model.fit(X_train, y_train)"
   ]
  },
  {
   "cell_type": "code",
   "execution_count": 9,
   "id": "fc8d3d1a-054a-4b9b-90ca-60af6b05f8e5",
   "metadata": {},
   "outputs": [
    {
     "name": "stdout",
     "output_type": "stream",
     "text": [
      "R2 Score: 0.976\n",
      "mean square error: 0.9899063269588756\n",
      "mean absolute error: 0.6843838212895582\n",
      "root mean square error: 0.9949403635187767\n"
     ]
    },
    {
     "data": {
      "image/png": "[encoded data removed]",
      "text/plain": [
       "<Figure size 640x480 with 1 Axes>"
      ]
     },
     "metadata": {},
     "output_type": "display_data"
    }
   ],
   "source": [
    "y_pred = model.predict(X_test)\n",
    "plt.scatter(y_test,y_pred)\n",
    "plt.x = \"Y Expected\"\n",
    "plt.y = \"Y Predict\"\n",
    "print(\"R2 Score: %.3f\" % r2_score(y_test, y_pred))\n",
    "print(\"mean square error: \"+ str(mean_squared_error(y_test, y_pred)))\n",
    "print(\"mean absolute error: \"+ str(mean_absolute_error(y_test, y_pred)))\n",
    "print(\"root mean square error: \"+ str(mean_squared_error(y_test, y_pred, squared= False)))"
   ]
  },
  {
   "cell_type": "code",
   "execution_count": 10,
   "id": "f88dce5b-1920-4c1a-812c-a925d9ab5e2d",
   "metadata": {},
   "outputs": [
    {
     "data": {
      "text/html": [
       "<div>\n",
       "<style scoped>\n",
       "    .dataframe tbody tr th:only-of-type {\n",
       "        vertical-align: middle;\n",
       "    }\n",
       "\n",
       "    .dataframe tbody tr th {\n",
       "        vertical-align: top;\n",
       "    }\n",
       "\n",
       "    .dataframe thead th {\n",
       "        text-align: right;\n",
       "    }\n",
       "</style>\n",
       "<table border=\"1\" class=\"dataframe\">\n",
       "  <thead>\n",
       "    <tr style=\"text-align: right;\">\n",
       "      <th></th>\n",
       "      <th>Test</th>\n",
       "      <th>Predicted</th>\n",
       "    </tr>\n",
       "  </thead>\n",
       "  <tbody>\n",
       "    <tr>\n",
       "      <th>27516</th>\n",
       "      <td>17.4</td>\n",
       "      <td>16.818</td>\n",
       "    </tr>\n",
       "    <tr>\n",
       "      <th>21537</th>\n",
       "      <td>18.6</td>\n",
       "      <td>20.707</td>\n",
       "    </tr>\n",
       "    <tr>\n",
       "      <th>17361</th>\n",
       "      <td>10.7</td>\n",
       "      <td>10.880</td>\n",
       "    </tr>\n",
       "    <tr>\n",
       "      <th>17017</th>\n",
       "      <td>11.2</td>\n",
       "      <td>11.174</td>\n",
       "    </tr>\n",
       "    <tr>\n",
       "      <th>23087</th>\n",
       "      <td>20.9</td>\n",
       "      <td>19.869</td>\n",
       "    </tr>\n",
       "    <tr>\n",
       "      <th>...</th>\n",
       "      <td>...</td>\n",
       "      <td>...</td>\n",
       "    </tr>\n",
       "    <tr>\n",
       "      <th>27744</th>\n",
       "      <td>0.1</td>\n",
       "      <td>0.684</td>\n",
       "    </tr>\n",
       "    <tr>\n",
       "      <th>7268</th>\n",
       "      <td>10.9</td>\n",
       "      <td>11.469</td>\n",
       "    </tr>\n",
       "    <tr>\n",
       "      <th>8658</th>\n",
       "      <td>8.0</td>\n",
       "      <td>8.669</td>\n",
       "    </tr>\n",
       "    <tr>\n",
       "      <th>23649</th>\n",
       "      <td>21.3</td>\n",
       "      <td>21.217</td>\n",
       "    </tr>\n",
       "    <tr>\n",
       "      <th>13529</th>\n",
       "      <td>31.9</td>\n",
       "      <td>32.471</td>\n",
       "    </tr>\n",
       "  </tbody>\n",
       "</table>\n",
       "<p>5909 rows × 2 columns</p>\n",
       "</div>"
      ],
      "text/plain": [
       "       Test  Predicted\n",
       "27516  17.4     16.818\n",
       "21537  18.6     20.707\n",
       "17361  10.7     10.880\n",
       "17017  11.2     11.174\n",
       "23087  20.9     19.869\n",
       "...     ...        ...\n",
       "27744   0.1      0.684\n",
       "7268   10.9     11.469\n",
       "8658    8.0      8.669\n",
       "23649  21.3     21.217\n",
       "13529  31.9     32.471\n",
       "\n",
       "[5909 rows x 2 columns]"
      ]
     },
     "execution_count": 10,
     "metadata": {},
     "output_type": "execute_result"
    }
   ],
   "source": [
    "df = pd.DataFrame({'Test': y_test, 'Predicted': y_pred})\n",
    "df"
   ]
  },
  {
   "cell_type": "code",
   "execution_count": 11,
   "id": "65bf9f36-776a-4910-9169-1935a2ec726d",
   "metadata": {},
   "outputs": [
    {
     "name": "stdout",
     "output_type": "stream",
     "text": [
      "    year  month  day  hour\n",
      "0   2023      5   16     0\n",
      "1   2023      5   16     1\n",
      "2   2023      5   16     2\n",
      "3   2023      5   16     3\n",
      "4   2023      5   16     4\n",
      "5   2023      5   16     5\n",
      "6   2023      5   16     6\n",
      "7   2023      5   16     7\n",
      "8   2023      5   16     8\n",
      "9   2023      5   16     9\n",
      "10  2023      5   16    10\n",
      "11  2023      5   16    11\n",
      "12  2023      5   16    12\n",
      "13  2023      5   16    13\n",
      "14  2023      5   16    14\n",
      "15  2023      5   16    15\n",
      "16  2023      5   16    16\n",
      "17  2023      5   16    17\n",
      "18  2023      5   16    18\n",
      "19  2023      5   16    19\n",
      "20  2023      5   16    20\n",
      "21  2023      5   16    21\n",
      "22  2023      5   16    22\n",
      "23  2023      5   16    23\n",
      "[12.695 12.077 11.679 11.254 10.619 10.624 10.663 12.793 15.045 16.832\n",
      " 18.389 19.591 20.951 21.542 21.774 21.91  21.8   21.162 20.205 18.61\n",
      " 17.08  15.958 14.95  13.99 ]\n"
     ]
    }
   ],
   "source": [
    "# Make predictions for the next day\n",
    "next_day = pd.DataFrame({\n",
    "    'year': [2023] * 24,\n",
    "    'month': [5] * 24,\n",
    "    'day': [16] * 24,\n",
    "    'hour': range(24)\n",
    "})\n",
    "print(next_day)\n",
    "next_day_predictions = model.predict(next_day)\n",
    "\n",
    "# Print the predicted temperatures for the next day\n",
    "print(next_day_predictions)"
   ]
  },
  {
   "cell_type": "code",
   "execution_count": null,
   "id": "d21d0b9b-522a-4bba-b5db-84d33f5829ea",
   "metadata": {},
   "outputs": [],
   "source": []
  },
  {
   "cell_type": "code",
   "execution_count": null,
   "id": "58244552-d63b-403e-bb65-996d1d4b10bc",
   "metadata": {},
   "outputs": [],
   "source": []
  }
 ],
 "metadata": {
  "kernelspec": {
   "display_name": "Python 3 (ipykernel)",
   "language": "python",
   "name": "python3"
  },
  "language_info": {
   "codemirror_mode": {
    "name": "ipython",
    "version": 3
   },
   "file_extension": ".py",
   "mimetype": "text/x-python",
   "name": "python",
   "nbconvert_exporter": "python",
   "pygments_lexer": "ipython3",
   "version": "3.9.13"
  }
 },
 "nbformat": 4,
 "nbformat_minor": 5
}
